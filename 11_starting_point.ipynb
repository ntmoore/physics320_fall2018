{
 "cells": [
  {
   "cell_type": "code",
   "execution_count": null,
   "metadata": {},
   "outputs": [],
   "source": [
    "from pandas import *"
   ]
  },
  {
   "cell_type": "code",
   "execution_count": null,
   "metadata": {},
   "outputs": [],
   "source": [
    "data=pandas.read_csv(\"./09_pandas_applications/gas_station.csv\")"
   ]
  },
  {
   "cell_type": "code",
   "execution_count": null,
   "metadata": {},
   "outputs": [],
   "source": [
    "data"
   ]
  },
  {
   "cell_type": "code",
   "execution_count": null,
   "metadata": {},
   "outputs": [],
   "source": [
    "# pull out \"odometer mileage at fill,\" and \"gas to fill the tank\" vectors\n",
    "mileage=data.iloc[:,0]\n",
    "gas=data.iloc[:,1]"
   ]
  },
  {
   "cell_type": "code",
   "execution_count": null,
   "metadata": {},
   "outputs": [],
   "source": [
    "# the miles since last fill vector\n",
    "dm = mileage.iloc[1:].values - mileage.iloc[0:6].values\n",
    "dm"
   ]
  },
  {
   "cell_type": "code",
   "execution_count": null,
   "metadata": {},
   "outputs": [],
   "source": [
    "# mpg values\n",
    "mpg=dm/gas[1:]\n",
    "# strip out the pandas indexing\n",
    "mpg=mpg.values\n",
    "mpg"
   ]
  },
  {
   "cell_type": "code",
   "execution_count": null,
   "metadata": {},
   "outputs": [],
   "source": [
    "#print out a gas, dm and mpg values in a nice column\n",
    "\n",
    "for i in range(len(mpg)):\n",
    "    print(i,dm[i],gas[i],mpg[i]) \n",
    "    # note, the formatting statement is missing"
   ]
  },
  {
   "cell_type": "code",
   "execution_count": null,
   "metadata": {},
   "outputs": [],
   "source": [
    "# the same thing, with a while loop\n",
    "i=0\n",
    "len(mpg)"
   ]
  },
  {
   "cell_type": "code",
   "execution_count": null,
   "metadata": {},
   "outputs": [],
   "source": [
    "while( i<len(mpg) ):\n",
    "    print(i,dm[i],gas[i],mpg[i]) \n",
    "    i = i+1"
   ]
  },
  {
   "cell_type": "markdown",
   "metadata": {},
   "source": [
    "# Now, something different\n",
    "$x_2=x_1+v_1 t$\n",
    "\n",
    "$v_2=v_1+a_1 t$\n",
    "\n",
    "Drop a small watermelon out the window.  While the object is above the ground, simulate the trajectory, using small dt timesteps"
   ]
  },
  {
   "cell_type": "code",
   "execution_count": null,
   "metadata": {},
   "outputs": [],
   "source": [
    "# initial parameters\n",
    "v1=1.0e-10 # m/s\n",
    "x1=40.0 # m\n",
    "dt=0.1 # s\n",
    "t1=0.0 # s\n",
    "m=2.0 #kg\n",
    "\n",
    "# for the drag calculation\n",
    "import math\n",
    "Cd=0.47\n",
    "rho=1.225 # kg/m^3\n",
    "r=0.15 # m\n",
    "A=math.pi*r**2\n",
    "c=0.5*rho*Cd*A\n",
    "g=9.81"
   ]
  },
  {
   "cell_type": "code",
   "execution_count": null,
   "metadata": {},
   "outputs": [],
   "source": [
    "x=[]\n",
    "v=[]\n",
    "a=[]\n",
    "t=[]\n",
    "while (x1>0.0):\n",
    "    # fill in"
   ]
  },
  {
   "cell_type": "code",
   "execution_count": null,
   "metadata": {},
   "outputs": [],
   "source": [
    "%matplotlib inline\n",
    "import matplotlib.pyplot as plt\n",
    "plt.plot(t,x)\n",
    "plt.ylabel(\"height, x (m)\")\n",
    "plt.xlabel(\"time, t, (s)\")"
   ]
  },
  {
   "cell_type": "code",
   "execution_count": null,
   "metadata": {},
   "outputs": [],
   "source": [
    "plt.plot(t,v)\n",
    "plt.ylabel(\"velocity, v (m/s)\")\n",
    "plt.xlabel(\"time, t, (s)\")"
   ]
  },
  {
   "cell_type": "code",
   "execution_count": null,
   "metadata": {},
   "outputs": [],
   "source": [
    "plt.plot(t,a)\n",
    "plt.ylabel(\"acceleration, a (m/s^2)\")\n",
    "plt.xlabel(\"time, t, (s)\")"
   ]
  },
  {
   "cell_type": "markdown",
   "metadata": {},
   "source": [
    "# How does this compare to simple kinematics?"
   ]
  },
  {
   "cell_type": "code",
   "execution_count": null,
   "metadata": {},
   "outputs": [],
   "source": [
    "x_th=[]\n",
    "v_th=[]\n",
    "for time in t:\n",
    "    # fill in\n",
    "    x_th.append()\n",
    "    v_th.append()"
   ]
  },
  {
   "cell_type": "code",
   "execution_count": null,
   "metadata": {},
   "outputs": [],
   "source": [
    "plt.plot(t,x,label=\"with air resistance\")\n",
    "plt.plot(t,x_th,label=\"ideal case\")\n",
    "plt.legend()\n",
    "plt.ylabel(\"height, x (m)\")\n",
    "plt.xlabel(\"time, t, (s)\")"
   ]
  },
  {
   "cell_type": "markdown",
   "metadata": {},
   "source": [
    "Note, air resistance predicts a terminal velocity of \n",
    "$mg=cv^2$ or $v=\\sqrt{mg/c}=\\sqrt{\\frac{2 m g}{C_D A \\rho}}$"
   ]
  },
  {
   "cell_type": "code",
   "execution_count": null,
   "metadata": {},
   "outputs": [],
   "source": [
    "v_terminal=(2*m*g/(Cd*rho*A))**0.5\n",
    "print(\"terminal velocity is prediceted to be %.2f\" % v_terminal)\n",
    "plt.plot(t,v,label=\"with air resistance\")\n",
    "plt.plot(t,v_th,label=\"ideal case\")\n",
    "caption=\"terminal velocity of %.2f (m/s)\"%(-1.0*v_terminal)\n",
    "plt.plot([t[0],t[-1]],[-v_terminal,-v_terminal],label=caption)\n",
    "plt.legend()\n",
    "plt.ylabel(\"velocity, v (m/s)\")\n",
    "plt.xlabel(\"time, t, (s)\")"
   ]
  },
  {
   "cell_type": "code",
   "execution_count": null,
   "metadata": {},
   "outputs": [],
   "source": []
  }
 ],
 "metadata": {
  "kernelspec": {
   "display_name": "Python 3",
   "language": "python",
   "name": "python3"
  },
  "language_info": {
   "codemirror_mode": {
    "name": "ipython",
    "version": 3
   },
   "file_extension": ".py",
   "mimetype": "text/x-python",
   "name": "python",
   "nbconvert_exporter": "python",
   "pygments_lexer": "ipython3",
   "version": "3.6.5"
  }
 },
 "nbformat": 4,
 "nbformat_minor": 2
}
