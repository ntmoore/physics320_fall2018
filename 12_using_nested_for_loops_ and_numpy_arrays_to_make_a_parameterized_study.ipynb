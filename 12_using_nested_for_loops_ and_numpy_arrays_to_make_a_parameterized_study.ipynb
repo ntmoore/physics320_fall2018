{
 "cells": [
  {
   "cell_type": "code",
   "execution_count": null,
   "metadata": {},
   "outputs": [],
   "source": [
    "# what's wrong with this loop?\n",
    "dt=0.01\n",
    "for t in range(0,3,dt):\n",
    "    print(t)"
   ]
  },
  {
   "cell_type": "code",
   "execution_count": null,
   "metadata": {},
   "outputs": [],
   "source": [
    "# rewrite as (fill in the blanks)\n",
    "dt=0.01 # timestep\n",
    "T=3.0 # total simulation time\n",
    "N=\n",
    "time=0\n",
    "for i in range (0,N)\n",
    "    time = \n",
    "    print(time)# rewrite with\n",
    "#\n",
    "#\n",
    "#\n",
    "#\n",
    "#\n",
    "#\n",
    "#\n",
    "#"
   ]
  },
  {
   "cell_type": "code",
   "execution_count": null,
   "metadata": {},
   "outputs": [],
   "source": [
    "# solution\n",
    "#\n",
    "dt=0.01 # timestep\n",
    "T=3.0 # total simulation time\n",
    "N=int(T/dt)\n",
    "time=0\n",
    "for i in range (0,N):\n",
    "    time = dt*i \n",
    "    if(i<5): \n",
    "        print(time)"
   ]
  },
  {
   "cell_type": "markdown",
   "metadata": {},
   "source": [
    "## It would be nice to plot multiple angles in a regular fashion"
   ]
  },
  {
   "cell_type": "code",
   "execution_count": null,
   "metadata": {},
   "outputs": [],
   "source": [
    "# How do we repeat this simulation for multiple initial angles?\n",
    "dt=0.01 # timestep\n",
    "T=3.0 # total simulation time\n",
    "N=int(T/dt)\n",
    "time=0\n",
    "\n",
    "import math\n",
    "v0=20.0 # m/s\n",
    "angle=30\n",
    "v0x=v0*math.cos(angle*math.pi/180.0)\n",
    "v0y=v0*math.sin(angle*math.pi/180.0)\n",
    "ay=-9.81\n",
    "ax=0\n",
    "x0=0\n",
    "y0=0\n",
    "x=[]\n",
    "y=[]\n",
    "t=[]\n",
    "for i in range (0,N):\n",
    "    time = dt*i \n",
    "    yval=x0 + v0y*time + 0.5*ay*time**2\n",
    "    if(yval>=0.0) :\n",
    "        y.append(yval)\n",
    "        x.append(x0 + v0x*time + 0.5*ax*time**2)\n",
    "        t.append(time)\n",
    "\n",
    "\n",
    "import matplotlib.pyplot as plt\n",
    "%matplotlib inline\n",
    "plt.plot(x,y,label=\"%d degrees\"%angle)\n",
    "\n",
    "v0=20.0 # m/s\n",
    "angle=45\n",
    "v0x=v0*math.cos(angle*math.pi/180.0)\n",
    "v0y=v0*math.sin(angle*math.pi/180.0)\n",
    "ay=-9.81\n",
    "ax=0\n",
    "x0=0\n",
    "y0=0\n",
    "x=[]\n",
    "y=[]\n",
    "t=[]\n",
    "for i in range (0,N):\n",
    "    time = dt*i \n",
    "    yval=x0 + v0y*time + 0.5*ay*time**2\n",
    "    if(yval>=0.0) :\n",
    "        y.append(yval)\n",
    "        x.append(x0 + v0x*time + 0.5*ax*time**2)\n",
    "        t.append(time)\n",
    "plt.plot(x,y,label=\"%d degrees\"%angle)\n",
    "plt.legend()\n",
    "plt.ylabel(\"altitude, y, (m)\")\n",
    "plt.xlabel(\"range, x, (m)\")"
   ]
  },
  {
   "cell_type": "markdown",
   "metadata": {},
   "source": [
    "## Use a for loop to iterate over multiple angles"
   ]
  },
  {
   "cell_type": "code",
   "execution_count": null,
   "metadata": {},
   "outputs": [],
   "source": [
    "# How do we repeat this simulation for multiple initial angles?\n",
    "import math\n",
    "dt=0.01 # timestep\n",
    "T=3.0 # total simulation time\n",
    "N=int(T/dt)\n",
    "\n",
    "# initial values that don't change\n",
    "v0=20.0 # m/s\n",
    "ay=-9.81\n",
    "ax=0\n",
    "x0=0\n",
    "y0=0\n",
    "\n",
    "# iterate over initial angles \n",
    "for angle in range(15,55,5):\n",
    "    time=0\n",
    "    v0x=v0*math.cos(angle*math.pi/180.0)\n",
    "    v0y=v0*math.sin(angle*math.pi/180.0)\n",
    "    x=[]\n",
    "    y=[]\n",
    "    t=[]\n",
    "    for i in range (0,N):\n",
    "        time = dt*i \n",
    "        yval=x0 + v0y*time + 0.5*ay*time**2\n",
    "        if(yval>=0.0) :\n",
    "            y.append(yval)\n",
    "            x.append(x0 + v0x*time + 0.5*ax*time**2)\n",
    "            t.append(time)\n",
    "    plt.plot(x,y,label=\"%d degrees\"%angle)\n",
    "    \n",
    "plt.legend()\n",
    "plt.ylabel(\"altitude, y, (m)\")\n",
    "plt.xlabel(\"range, x, (m)\")"
   ]
  },
  {
   "cell_type": "markdown",
   "metadata": {},
   "source": [
    "## but we're throwing away data!\n",
    "With each new angle, we zero out the x=[] array.  What if we don't want to throw this data away?  "
   ]
  },
  {
   "cell_type": "code",
   "execution_count": null,
   "metadata": {},
   "outputs": [],
   "source": [
    "# how many angles?\n",
    "list_of_angles=[25,30,35,40,45]\n",
    "N_angles=len(list_of_angles)\n",
    "print(N_angles)\n",
    "# how long to simulate?\n",
    "T=3\n",
    "# timestep?\n",
    "dt=0.001\n",
    "#How many points?\n",
    "N=int(T/dt)\n",
    "print(N)"
   ]
  },
  {
   "cell_type": "code",
   "execution_count": null,
   "metadata": {},
   "outputs": [],
   "source": [
    "#declare array\n",
    "import numpy as np\n",
    "x_tracks=np.zeros((N_angles,N))\n",
    "print(x_tracks)"
   ]
  },
  {
   "cell_type": "code",
   "execution_count": null,
   "metadata": {},
   "outputs": [],
   "source": [
    "#How do you access a 2d array?  2 indicies\n",
    "x_tracks[1,2]=3\n",
    "print(x_tracks)\n",
    "# \n",
    "x_tracks[1][2]=5 # this version also works, but is SLOWER for large arrays\n",
    "print(x_tracks)"
   ]
  },
  {
   "cell_type": "code",
   "execution_count": null,
   "metadata": {},
   "outputs": [],
   "source": [
    "# so create arrays for x,y,t and fill them\n",
    "x_tracks=np.zeros((N_angles,N))\n",
    "y_tracks=np.zeros((N_angles,N))\n",
    "t_tracks=np.zeros((N_angles,N))\n",
    "\n",
    "# initial values that don't change\n",
    "v0=20.0 # m/s\n",
    "ay=-9.81\n",
    "ax=0\n",
    "x0=0\n",
    "y0=0\n",
    "\n",
    "# iterate over initial angles \n",
    "for i in range(0,N_angles):\n",
    "    \n",
    "    angle=list_of_angles[i]\n",
    "    \n",
    "    v0x=v0*math.cos(angle*math.pi/180.0)\n",
    "    v0y=v0*math.sin(angle*math.pi/180.0)\n",
    "    \n",
    "    for j in range (0,N):\n",
    "        time = dt*j \n",
    "        yval=x0 + v0y*time + 0.5*ay*time**2\n",
    "        if(yval>=0.0) :\n",
    "            y_tracks[i,j] = yval\n",
    "            x_tracks[i,j] = x0 + v0x*time + 0.5*ax*time**2\n",
    "            t_tracks[i,j] = time\n",
    "            \n",
    "for i in range(0,N_angles):\n",
    "    plt.plot(x_tracks[i],y_tracks[i],label=\"%d degrees\"%list_of_angles[i])\n",
    "\n",
    "plt.axis([0,50,0,15])\n",
    "plt.legend()\n",
    "plt.ylabel(\"altitude, y, (m)\")\n",
    "plt.xlabel(\"range, x, (m)\")"
   ]
  },
  {
   "cell_type": "code",
   "execution_count": null,
   "metadata": {},
   "outputs": [],
   "source": []
  }
 ],
 "metadata": {
  "kernelspec": {
   "display_name": "Python 3",
   "language": "python",
   "name": "python3"
  },
  "language_info": {
   "codemirror_mode": {
    "name": "ipython",
    "version": 3
   },
   "file_extension": ".py",
   "mimetype": "text/x-python",
   "name": "python",
   "nbconvert_exporter": "python",
   "pygments_lexer": "ipython3",
   "version": "3.6.5"
  }
 },
 "nbformat": 4,
 "nbformat_minor": 2
}
