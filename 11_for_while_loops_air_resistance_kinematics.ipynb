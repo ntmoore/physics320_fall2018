{
 "cells": [
  {
   "cell_type": "code",
   "execution_count": 1,
   "metadata": {},
   "outputs": [],
   "source": [
    "from pandas import *"
   ]
  },
  {
   "cell_type": "code",
   "execution_count": 2,
   "metadata": {},
   "outputs": [],
   "source": [
    "data=pandas.read_csv(\"./09_pandas_applications/gas_station.csv\")"
   ]
  },
  {
   "cell_type": "code",
   "execution_count": 3,
   "metadata": {},
   "outputs": [
    {
     "data": {
      "text/html": [
       "<div>\n",
       "<style scoped>\n",
       "    .dataframe tbody tr th:only-of-type {\n",
       "        vertical-align: middle;\n",
       "    }\n",
       "\n",
       "    .dataframe tbody tr th {\n",
       "        vertical-align: top;\n",
       "    }\n",
       "\n",
       "    .dataframe thead th {\n",
       "        text-align: right;\n",
       "    }\n",
       "</style>\n",
       "<table border=\"1\" class=\"dataframe\">\n",
       "  <thead>\n",
       "    <tr style=\"text-align: right;\">\n",
       "      <th></th>\n",
       "      <th>odometer_miles</th>\n",
       "      <th>gallons_added</th>\n",
       "      <th>date</th>\n",
       "      <th>Unnamed: 3</th>\n",
       "    </tr>\n",
       "  </thead>\n",
       "  <tbody>\n",
       "    <tr>\n",
       "      <th>0</th>\n",
       "      <td>31517</td>\n",
       "      <td>3.189</td>\n",
       "      <td>2018-08-15</td>\n",
       "      <td>NaN</td>\n",
       "    </tr>\n",
       "    <tr>\n",
       "      <th>1</th>\n",
       "      <td>31605</td>\n",
       "      <td>1.650</td>\n",
       "      <td>NaN</td>\n",
       "      <td>NaN</td>\n",
       "    </tr>\n",
       "    <tr>\n",
       "      <th>2</th>\n",
       "      <td>31727</td>\n",
       "      <td>2.329</td>\n",
       "      <td>NaN</td>\n",
       "      <td>NaN</td>\n",
       "    </tr>\n",
       "    <tr>\n",
       "      <th>3</th>\n",
       "      <td>31803</td>\n",
       "      <td>1.383</td>\n",
       "      <td>2018-08-27</td>\n",
       "      <td>NaN</td>\n",
       "    </tr>\n",
       "    <tr>\n",
       "      <th>4</th>\n",
       "      <td>31956</td>\n",
       "      <td>2.934</td>\n",
       "      <td>2018-09-05</td>\n",
       "      <td>NaN</td>\n",
       "    </tr>\n",
       "    <tr>\n",
       "      <th>5</th>\n",
       "      <td>32045</td>\n",
       "      <td>1.857</td>\n",
       "      <td>2018-09-11</td>\n",
       "      <td>NaN</td>\n",
       "    </tr>\n",
       "    <tr>\n",
       "      <th>6</th>\n",
       "      <td>32303</td>\n",
       "      <td>5.166</td>\n",
       "      <td>2018-09-19</td>\n",
       "      <td>NaN</td>\n",
       "    </tr>\n",
       "  </tbody>\n",
       "</table>\n",
       "</div>"
      ],
      "text/plain": [
       "   odometer_miles  gallons_added        date  Unnamed: 3\n",
       "0           31517          3.189  2018-08-15         NaN\n",
       "1           31605          1.650         NaN         NaN\n",
       "2           31727          2.329         NaN         NaN\n",
       "3           31803          1.383  2018-08-27         NaN\n",
       "4           31956          2.934  2018-09-05         NaN\n",
       "5           32045          1.857  2018-09-11         NaN\n",
       "6           32303          5.166  2018-09-19         NaN"
      ]
     },
     "execution_count": 3,
     "metadata": {},
     "output_type": "execute_result"
    }
   ],
   "source": [
    "data"
   ]
  },
  {
   "cell_type": "code",
   "execution_count": 4,
   "metadata": {},
   "outputs": [],
   "source": [
    "# pull out \"odometer mileage at fill,\" and \"gas to fill the tank\" vectors\n",
    "mileage=data.iloc[:,0]\n",
    "gas=data.iloc[:,1]"
   ]
  },
  {
   "cell_type": "code",
   "execution_count": 5,
   "metadata": {},
   "outputs": [
    {
     "data": {
      "text/plain": [
       "array([ 88, 122,  76, 153,  89, 258], dtype=int64)"
      ]
     },
     "execution_count": 5,
     "metadata": {},
     "output_type": "execute_result"
    }
   ],
   "source": [
    "# the miles since last fill vector\n",
    "dm = mileage.iloc[1:].values - mileage.iloc[0:6].values\n",
    "dm"
   ]
  },
  {
   "cell_type": "code",
   "execution_count": 6,
   "metadata": {},
   "outputs": [
    {
     "data": {
      "text/plain": [
       "array([53.33333333, 52.38299699, 54.95300072, 52.14723926, 47.9267636 ,\n",
       "       49.94192799])"
      ]
     },
     "execution_count": 6,
     "metadata": {},
     "output_type": "execute_result"
    }
   ],
   "source": [
    "# mpg values\n",
    "mpg=dm/gas[1:]\n",
    "# strip out the pandas indexing\n",
    "mpg=mpg.values\n",
    "mpg"
   ]
  },
  {
   "cell_type": "code",
   "execution_count": 7,
   "metadata": {},
   "outputs": [
    {
     "name": "stdout",
     "output_type": "stream",
     "text": [
      "0 88 3.1889999999999996 53.333333333333336\n",
      "1 122 1.65 52.3829969944182\n",
      "2 76 2.329 54.9530007230658\n",
      "3 153 1.383 52.147239263803684\n",
      "4 89 2.9339999999999997 47.92676359719979\n",
      "5 258 1.857 49.94192799070847\n"
     ]
    }
   ],
   "source": [
    "#print out a gas, dm and mpg values in a nice column\n",
    "\n",
    "for i in range(len(mpg)):\n",
    "    print(i,dm[i],gas[i],mpg[i]) \n",
    "    # note, the formatting statement is missing"
   ]
  },
  {
   "cell_type": "code",
   "execution_count": 8,
   "metadata": {},
   "outputs": [
    {
     "data": {
      "text/plain": [
       "6"
      ]
     },
     "execution_count": 8,
     "metadata": {},
     "output_type": "execute_result"
    }
   ],
   "source": [
    "# the same thing, with a while loop\n",
    "i=0\n",
    "len(mpg)"
   ]
  },
  {
   "cell_type": "code",
   "execution_count": 9,
   "metadata": {},
   "outputs": [
    {
     "name": "stdout",
     "output_type": "stream",
     "text": [
      "0 88 3.1889999999999996 53.333333333333336\n",
      "1 122 1.65 52.3829969944182\n",
      "2 76 2.329 54.9530007230658\n",
      "3 153 1.383 52.147239263803684\n",
      "4 89 2.9339999999999997 47.92676359719979\n",
      "5 258 1.857 49.94192799070847\n"
     ]
    }
   ],
   "source": [
    "while( i<len(mpg) ):\n",
    "    print(i,dm[i],gas[i],mpg[i]) \n",
    "    i = i+1"
   ]
  },
  {
   "cell_type": "markdown",
   "metadata": {},
   "source": [
    "# Now, something different\n",
    "$x_2=x_1+v_1 t$\n",
    "\n",
    "$v_2=v_1+a_1 t$\n",
    "\n",
    "Drop a small watermelon out the window.  While the object is above the ground, simulate the trajectory, using small dt timesteps"
   ]
  },
  {
   "cell_type": "code",
   "execution_count": 1,
   "metadata": {},
   "outputs": [],
   "source": [
    "# initial parameters\n",
    "v1=1.0e-10 # m/s\n",
    "x1=40.0 # m\n",
    "dt=0.1 # s\n",
    "t1=0.0 # s\n",
    "m=2.0 #kg\n",
    "\n",
    "# for the drag calculation\n",
    "import math\n",
    "Cd=0.47\n",
    "rho=1.225 # kg/m^3\n",
    "r=0.3 # m\n",
    "A=math.pi*r**2\n",
    "c=0.5*rho*Cd*A\n",
    "g=9.81"
   ]
  },
  {
   "cell_type": "code",
   "execution_count": 2,
   "metadata": {},
   "outputs": [],
   "source": [
    "x=[]\n",
    "v=[]\n",
    "a=[]\n",
    "t=[]\n",
    "while (x1>0.0):\n",
    "    a1=(-m*g + c*v1*v1*(-v1/abs(v1)))/m\n",
    "    v2=v1+a1*dt\n",
    "    x2=x1+v1*dt\n",
    "    \n",
    "    x.append(x1)\n",
    "    v.append(v1)\n",
    "    a.append(a1)\n",
    "    t.append(t1)\n",
    "    \n",
    "    x1=x2\n",
    "    v1=v2\n",
    "    t1=t1+dt"
   ]
  },
  {
   "cell_type": "code",
   "execution_count": 3,
   "metadata": {},
   "outputs": [
    {
     "data": {
      "text/plain": [
       "Text(0.5,0,'time, t, (s)')"
      ]
     },
     "execution_count": 3,
     "metadata": {},
     "output_type": "execute_result"
    },
    {
     "data": {
      "image/png": "[encoded data removed]",
      "text/plain": [
       "<Figure size 432x288 with 1 Axes>"
      ]
     },
     "metadata": {},
     "output_type": "display_data"
    }
   ],
   "source": [
    "%matplotlib inline\n",
    "import matplotlib.pyplot as plt\n",
    "plt.plot(t,x)\n",
    "plt.ylabel(\"height, x (m)\")\n",
    "plt.xlabel(\"time, t, (s)\")"
   ]
  },
  {
   "cell_type": "code",
   "execution_count": 4,
   "metadata": {},
   "outputs": [
    {
     "data": {
      "text/plain": [
       "Text(0.5,0,'time, t, (s)')"
      ]
     },
     "execution_count": 4,
     "metadata": {},
     "output_type": "execute_result"
    },
    {
     "data": {
      "image/png": "[encoded data removed]",
      "text/plain": [
       "<Figure size 432x288 with 1 Axes>"
      ]
     },
     "metadata": {},
     "output_type": "display_data"
    }
   ],
   "source": [
    "plt.plot(t,v)\n",
    "plt.ylabel(\"velocity, v (m/s)\")\n",
    "plt.xlabel(\"time, t, (s)\")"
   ]
  },
  {
   "cell_type": "code",
   "execution_count": 5,
   "metadata": {},
   "outputs": [
    {
     "data": {
      "text/plain": [
       "Text(0.5,0,'time, t, (s)')"
      ]
     },
     "execution_count": 5,
     "metadata": {},
     "output_type": "execute_result"
    },
    {
     "data": {
      "image/png": "[encoded data removed]",
      "text/plain": [
       "<Figure size 432x288 with 1 Axes>"
      ]
     },
     "metadata": {},
     "output_type": "display_data"
    }
   ],
   "source": [
    "plt.plot(t,a)\n",
    "plt.ylabel(\"acceleration, a (m/s^2)\")\n",
    "plt.xlabel(\"time, t, (s)\")"
   ]
  },
  {
   "cell_type": "markdown",
   "metadata": {},
   "source": [
    "# How does this compare to simple kinematics?"
   ]
  },
  {
   "cell_type": "code",
   "execution_count": 6,
   "metadata": {},
   "outputs": [],
   "source": [
    "x_th=[]\n",
    "v_th=[]\n",
    "for time in t:\n",
    "    x_th.append(x[0]+v[0]*time-g*time*time/2)\n",
    "    v_th.append(v[0]-g*time)"
   ]
  },
  {
   "cell_type": "code",
   "execution_count": 7,
   "metadata": {},
   "outputs": [
    {
     "data": {
      "text/plain": [
       "Text(0.5,0,'time, t, (s)')"
      ]
     },
     "execution_count": 7,
     "metadata": {},
     "output_type": "execute_result"
    },
    {
     "data": {
      "image/png": "[encoded data removed]",
      "text/plain": [
       "<Figure size 432x288 with 1 Axes>"
      ]
     },
     "metadata": {},
     "output_type": "display_data"
    }
   ],
   "source": [
    "plt.plot(t,x,label=\"with air resistance\")\n",
    "plt.plot(t,x_th,label=\"ideal case\")\n",
    "plt.legend()\n",
    "plt.ylabel(\"height, x (m)\")\n",
    "plt.xlabel(\"time, t, (s)\")"
   ]
  },
  {
   "cell_type": "markdown",
   "metadata": {},
   "source": [
    "Note, air resistance predicts a terminal velocity of \n",
    "$mg=cv^2$ or $v=\\sqrt{mg/c}=\\sqrt{\\frac{2 m g}{C_D A \\rho}}$"
   ]
  },
  {
   "cell_type": "code",
   "execution_count": 9,
   "metadata": {},
   "outputs": [
    {
     "name": "stdout",
     "output_type": "stream",
     "text": [
      "terminal velocity is predicted to be 15.53 (m/s)\n"
     ]
    },
    {
     "data": {
      "text/plain": [
       "Text(0.5,0,'time, t, (s)')"
      ]
     },
     "execution_count": 9,
     "metadata": {},
     "output_type": "execute_result"
    },
    {
     "data": {
      "image/png": "[encoded data removed]",
      "text/plain": [
       "<Figure size 432x288 with 1 Axes>"
      ]
     },
     "metadata": {},
     "output_type": "display_data"
    }
   ],
   "source": [
    "v_terminal=(2*m*g/(Cd*rho*A))**0.5\n",
    "print(\"terminal velocity is predicted to be %.2f (m/s)\" % v_terminal)\n",
    "plt.plot(t,v,label=\"with air resistance\")\n",
    "plt.plot(t,v_th,label=\"ideal case\")\n",
    "caption=\"terminal velocity of %.2f (m/s)\"%(-1.0*v_terminal)\n",
    "plt.plot([t[0],t[-1]],[-v_terminal,-v_terminal],label=caption)\n",
    "plt.legend()\n",
    "plt.ylabel(\"velocity, v (m/s)\")\n",
    "plt.xlabel(\"time, t, (s)\")"
   ]
  },
  {
   "cell_type": "code",
   "execution_count": null,
   "metadata": {},
   "outputs": [],
   "source": []
  }
 ],
 "metadata": {
  "kernelspec": {
   "display_name": "Python 3",
   "language": "python",
   "name": "python3"
  },
  "language_info": {
   "codemirror_mode": {
    "name": "ipython",
    "version": 3
   },
   "file_extension": ".py",
   "mimetype": "text/x-python",
   "name": "python",
   "nbconvert_exporter": "python",
   "pygments_lexer": "ipython3",
   "version": "3.6.5"
  }
 },
 "nbformat": 4,
 "nbformat_minor": 2
}
